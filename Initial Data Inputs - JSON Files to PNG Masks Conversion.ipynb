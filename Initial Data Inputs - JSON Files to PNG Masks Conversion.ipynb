{
 "cells": [
  {
   "cell_type": "markdown",
   "id": "d100b1ad",
   "metadata": {},
   "source": [
    "<div align=\"center\", class=\"alert alert-block alert-success\">\n",
    "    <h1>Deep Learning Project</h1>\n",
    "    <h2>Data Annotation Process:</h2>\n",
    "    <h3>JSON Files to PNG Masks Conversion</h3>\n",
    "    <h4><i>By Ariba Khan (17270) and Dr. Sawera Hanif (29413)</i></h4>\n",
    "</div>"
   ]
  },
  {
   "cell_type": "markdown",
   "id": "332f1b4a",
   "metadata": {},
   "source": [
    "### Purpose\n",
    "\n",
    "This notebook aims to process the JSON files generated during the manual annotation process using the LabelMe annotator. The goal is to convert these JSON files into PNG mask files and organize the corresponding images into a single source folder. This consolidated dataset will serve as the initial input for training our U-Net models. The trained models will then be used to generate accurate masks for the remaining dataset of approximately 9,000 images, facilitating further model development.\n",
    "\n",
    "#### About LabelMe Annotator Tool\n",
    "> [Link to GitHub Repository](https://github.com/wkentaro/labelme)\n",
    "\n",
    "LabelMe is an open-source image annotation tool widely used for creating labeled datasets for computer vision tasks. it provides an intuitive web-based interface for annotating objects in images with polygons, bounding boxes, or other geometric shapes.\n",
    "\n",
    "Given the scarcity of publicly available annotated echocardiogram datasets, LabelMe was utilized to create the initial annotations required for training our models."
   ]
  },
  {
   "cell_type": "markdown",
   "id": "5e8ca9ed",
   "metadata": {},
   "source": [
    "#### Importing Necessary Libraries"
   ]
  },
  {
   "cell_type": "code",
   "execution_count": 4,
   "id": "63e4d515",
   "metadata": {},
   "outputs": [],
   "source": [
    "import json\n",
    "import os\n",
    "import shutil\n",
    "import subprocess\n",
    "import numpy as np\n",
    "from PIL import Image, ImageDraw"
   ]
  },
  {
   "cell_type": "markdown",
   "id": "f60b2fed",
   "metadata": {},
   "source": [
    "#### Processing All JSON Files"
   ]
  },
  {
   "cell_type": "code",
   "execution_count": 8,
   "id": "5b20040f",
   "metadata": {},
   "outputs": [],
   "source": [
    "json_dir = r'C:\\Users\\Admin\\Desktop\\assignments\\FALL 2024\\DL\\DL Project\\JSON Files'  # Folder containing JSON files\n",
    "output_dir = r'C:\\Users\\Admin\\Desktop\\assignments\\FALL 2024\\DL\\annotation\\final masks output' # folder to save images and masks\n",
    "\n",
    "os.makedirs(output_dir, exist_ok=True)\n",
    "\n",
    "# converting all JSON files in the directory to masks\n",
    "for json_file in os.listdir(json_dir):\n",
    "    if json_file.endswith('.json'):\n",
    "        json_path = os.path.join(json_dir, json_file)\n",
    "        output_path = os.path.join(output_dir, json_file.replace('.json', ''))\n",
    "        \n",
    "        # running the labelme_export_json command for each JSON file\n",
    "        subprocess.run(['labelme_export_json', json_path, '-o', output_path])"
   ]
  },
  {
   "cell_type": "markdown",
   "id": "8a2ce295",
   "metadata": {},
   "source": [
    "#### Assembling Image and Mask PNG Inputs"
   ]
  },
  {
   "cell_type": "code",
   "execution_count": 13,
   "id": "fbdc7cd2",
   "metadata": {},
   "outputs": [],
   "source": [
    "source_dir = output_dir # path to the folders (00001, 00002, ...)\n",
    "image_dest_dir = r'C:\\Users\\Admin\\Desktop\\assignments\\FALL 2024\\DL\\DL Project\\Initial Inputs\\Initial Images'  # output folder for images\n",
    "mask_dest_dir = r'C:\\Users\\Admin\\Desktop\\assignments\\FALL 2024\\DL\\DL Project\\Initial Inputs\\Initial Masks'  # output folder for masks\n",
    "\n",
    "# creating output directories\n",
    "os.makedirs(output_image_dir, exist_ok=True)\n",
    "os.makedirs(output_mask_dir, exist_ok=True)"
   ]
  },
  {
   "cell_type": "code",
   "execution_count": 14,
   "id": "350dd126",
   "metadata": {},
   "outputs": [
    {
     "name": "stdout",
     "output_type": "stream",
     "text": [
      "Files have been successfully renamed and moved.\n"
     ]
    }
   ],
   "source": [
    "# iterating through each created folder to extract mask for each original image input\n",
    "\n",
    "for folder_name in os.listdir(source_dir):\n",
    "    folder_path = os.path.join(source_dir, folder_name)\n",
    "    \n",
    "    # Only process folders\n",
    "    if os.path.isdir(folder_path):\n",
    "        img_file = os.path.join(folder_path, \"img.png\")\n",
    "        label_file = os.path.join(folder_path, \"label.png\")\n",
    "        \n",
    "        # Check if the required files exist\n",
    "        if os.path.exists(img_file) and os.path.exists(label_file):\n",
    "            # Rename and move img.png\n",
    "            new_img_name = f\"{folder_name}.png\"\n",
    "            shutil.copy(img_file, os.path.join(image_dest_dir, new_img_name))\n",
    "            \n",
    "            # Rename and move label.png\n",
    "            new_label_name = f\"{folder_name}_mask.png\"\n",
    "            shutil.copy(label_file, os.path.join(mask_dest_dir, new_label_name))\n",
    "\n",
    "print(\"Files have been successfully renamed and moved.\")"
   ]
  },
  {
   "cell_type": "markdown",
   "id": "0f937a2d",
   "metadata": {},
   "source": [
    "#### Counting Total Files Processed"
   ]
  },
  {
   "cell_type": "code",
   "execution_count": 11,
   "id": "3eeac980",
   "metadata": {},
   "outputs": [],
   "source": [
    "def count_files(directory):\n",
    "    return len([file for file in os.listdir(directory) if os.path.isfile(os.path.join(directory, file))])"
   ]
  },
  {
   "cell_type": "code",
   "execution_count": 15,
   "id": "01600530",
   "metadata": {},
   "outputs": [
    {
     "name": "stdout",
     "output_type": "stream",
     "text": [
      "Total input image files: 1014\n",
      "Total input mask files: 1014\n"
     ]
    }
   ],
   "source": [
    "image_files = count_files(image_dest_dir)\n",
    "mask_files = count_files(mask_dest_dir)\n",
    "\n",
    "print(f\"Total input image files: {image_files}\")\n",
    "print(f\"Total input mask files: {mask_files}\")"
   ]
  },
  {
   "cell_type": "markdown",
   "id": "e5aa07c1",
   "metadata": {},
   "source": [
    "#### Creating a Zipped Folder of Initial Inputs"
   ]
  },
  {
   "cell_type": "code",
   "execution_count": 17,
   "id": "56da2c69",
   "metadata": {},
   "outputs": [
    {
     "name": "stdout",
     "output_type": "stream",
     "text": [
      "Zipped directories into C:\\Users\\Admin\\Desktop\\assignments\\FALL 2024\\DL\\DL Project\\Initial Inputs.zip\n"
     ]
    }
   ],
   "source": [
    "# directories for initial inputs\n",
    "directory = r\"C:\\Users\\Admin\\Desktop\\assignments\\FALL 2024\\DL\\DL Project\\Initial Inputs\"\n",
    "\n",
    "# path for zipped folder\n",
    "zip_path = r\"C:\\Users\\Admin\\Desktop\\assignments\\FALL 2024\\DL\\DL Project\\Initial Inputs\"\n",
    "\n",
    "# creating the zipped folder\n",
    "shutil.make_archive(zip_path, 'zip', directory)\n",
    "\n",
    "print(f\"Zipped directories into {zip_path}.zip\")"
   ]
  }
 ],
 "metadata": {
  "kernelspec": {
   "display_name": "Python 3 (ipykernel)",
   "language": "python",
   "name": "python3"
  },
  "language_info": {
   "codemirror_mode": {
    "name": "ipython",
    "version": 3
   },
   "file_extension": ".py",
   "mimetype": "text/x-python",
   "name": "python",
   "nbconvert_exporter": "python",
   "pygments_lexer": "ipython3",
   "version": "3.11.5"
  }
 },
 "nbformat": 4,
 "nbformat_minor": 5
}
